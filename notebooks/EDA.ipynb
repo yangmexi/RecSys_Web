{
 "cells": [
  {
   "cell_type": "markdown",
   "metadata": {},
   "source": [
    "# EDA"
   ]
  },
  {
   "cell_type": "markdown",
   "metadata": {},
   "source": [
    "## Data Preprocessing"
   ]
  },
  {
   "cell_type": "markdown",
   "metadata": {},
   "source": [
    "We worked with the Million Playlist Dataset (MPD). The decompressed MPD’s size is 33.54 GB. The dataset consists of 1000 splits, each split contains 1000 playlists. Each playlist is a dictionary, which contains N ‘sub-dictionaries’ (N is the number of tracks in the playlist). Each ‘sub-dictionary’ contains detailed information on each track, with each piece of information being a key-value pair. \n",
    "\n",
    "To parse the dataset into a more structured format and to query more efficiently, we built a relational database by SQLite3 in Python. The schema of the database is shown in the figure below. The database was organized to three relational tables, storing information of playlists’ properties (`playlist_info`), tracks’ properties (`track_info`) and playlist-track information (`playlist`), respectively. Since we focused on the playlists here, the playlist’s ID (pid) is used as primary key in our the database (Fig. 1). To retrieve and query data from the database, SQL commands were used."
   ]
  },
  {
   "cell_type": "markdown",
   "metadata": {},
   "source": [
    "<center>**Figure 1. Database Schema**</center>"
   ]
  },
  {
   "cell_type": "markdown",
   "metadata": {},
   "source": [
    "![Database Schema](notebooks/fig/db_schema.png)"
   ]
  },
  {
   "cell_type": "markdown",
   "metadata": {
    "collapsed": true
   },
   "source": [
    "## The Million Playlist Dataset\n",
    "### Part 1: Summary Statistics"
   ]
  },
  {
   "cell_type": "markdown",
   "metadata": {},
   "source": [
    "There are 1,000,000 playlists in the MPD, among which 52 songs were found to have length equal to or less than 0 minute. After excluding those abnormal observations, there are 2,262,240 unique tracks, 287,737 distinct artists, and 571,611 distinct albums in this dataset. The median length of each song is 3.75 minutes. The median of total durations for each playlist is 190.37 minutes. "
   ]
  },
  {
   "cell_type": "code",
   "execution_count": 11,
   "metadata": {},
   "outputs": [
    {
     "data": {
      "text/html": [
       "<div>\n",
       "<style scoped>\n",
       "    .dataframe tbody tr th:only-of-type {\n",
       "        vertical-align: middle;\n",
       "    }\n",
       "\n",
       "    .dataframe tbody tr th {\n",
       "        vertical-align: top;\n",
       "    }\n",
       "\n",
       "    .dataframe thead th {\n",
       "        text-align: right;\n",
       "    }\n",
       "</style>\n",
       "<table border=\"1\" class=\"dataframe\">\n",
       "  <thead>\n",
       "    <tr style=\"text-align: right;\">\n",
       "      <th></th>\n",
       "      <th>count</th>\n",
       "      <th>mean</th>\n",
       "      <th>std</th>\n",
       "      <th>min</th>\n",
       "      <th>25%</th>\n",
       "      <th>50%</th>\n",
       "      <th>75%</th>\n",
       "      <th>max</th>\n",
       "    </tr>\n",
       "  </thead>\n",
       "  <tbody>\n",
       "    <tr>\n",
       "      <th>Number of Tracks</th>\n",
       "      <td>1000000.0</td>\n",
       "      <td>66.346428</td>\n",
       "      <td>53.669358</td>\n",
       "      <td>5.000000</td>\n",
       "      <td>26.000000</td>\n",
       "      <td>49.000000</td>\n",
       "      <td>92.000000</td>\n",
       "      <td>376.000000</td>\n",
       "    </tr>\n",
       "    <tr>\n",
       "      <th>Number of Followers</th>\n",
       "      <td>1000000.0</td>\n",
       "      <td>2.597746</td>\n",
       "      <td>128.851145</td>\n",
       "      <td>1.000000</td>\n",
       "      <td>1.000000</td>\n",
       "      <td>1.000000</td>\n",
       "      <td>1.000000</td>\n",
       "      <td>71643.000000</td>\n",
       "    </tr>\n",
       "    <tr>\n",
       "      <th>Number of Artists</th>\n",
       "      <td>1000000.0</td>\n",
       "      <td>38.088211</td>\n",
       "      <td>30.282901</td>\n",
       "      <td>3.000000</td>\n",
       "      <td>16.000000</td>\n",
       "      <td>29.000000</td>\n",
       "      <td>52.000000</td>\n",
       "      <td>238.000000</td>\n",
       "    </tr>\n",
       "    <tr>\n",
       "      <th>Number of Albums</th>\n",
       "      <td>1000000.0</td>\n",
       "      <td>49.597278</td>\n",
       "      <td>39.961064</td>\n",
       "      <td>2.000000</td>\n",
       "      <td>20.000000</td>\n",
       "      <td>37.000000</td>\n",
       "      <td>68.000000</td>\n",
       "      <td>244.000000</td>\n",
       "    </tr>\n",
       "    <tr>\n",
       "      <th>Duration of Playlist (min)</th>\n",
       "      <td>1000000.0</td>\n",
       "      <td>259.661281</td>\n",
       "      <td>214.273910</td>\n",
       "      <td>1.625633</td>\n",
       "      <td>99.923050</td>\n",
       "      <td>190.373967</td>\n",
       "      <td>357.228129</td>\n",
       "      <td>10584.563200</td>\n",
       "    </tr>\n",
       "    <tr>\n",
       "      <th>Duration of Track (min)</th>\n",
       "      <td>2262240.0</td>\n",
       "      <td>4.129023</td>\n",
       "      <td>2.794452</td>\n",
       "      <td>0.000367</td>\n",
       "      <td>3.071333</td>\n",
       "      <td>3.754667</td>\n",
       "      <td>4.638433</td>\n",
       "      <td>345.742917</td>\n",
       "    </tr>\n",
       "  </tbody>\n",
       "</table>\n",
       "</div>"
      ],
      "text/plain": [
       "                                count        mean         std       min  \\\n",
       "Number of Tracks            1000000.0   66.346428   53.669358  5.000000   \n",
       "Number of Followers         1000000.0    2.597746  128.851145  1.000000   \n",
       "Number of Artists           1000000.0   38.088211   30.282901  3.000000   \n",
       "Number of Albums            1000000.0   49.597278   39.961064  2.000000   \n",
       "Duration of Playlist (min)  1000000.0  259.661281  214.273910  1.625633   \n",
       "Duration of Track (min)     2262240.0    4.129023    2.794452  0.000367   \n",
       "\n",
       "                                  25%         50%         75%           max  \n",
       "Number of Tracks            26.000000   49.000000   92.000000    376.000000  \n",
       "Number of Followers          1.000000    1.000000    1.000000  71643.000000  \n",
       "Number of Artists           16.000000   29.000000   52.000000    238.000000  \n",
       "Number of Albums            20.000000   37.000000   68.000000    244.000000  \n",
       "Duration of Playlist (min)  99.923050  190.373967  357.228129  10584.563200  \n",
       "Duration of Track (min)      3.071333    3.754667    4.638433    345.742917  "
      ]
     },
     "execution_count": 11,
     "metadata": {},
     "output_type": "execute_result"
    }
   ],
   "source": [
    "des"
   ]
  },
  {
   "cell_type": "markdown",
   "metadata": {},
   "source": [
    "<center>Figure 2. Distribution of Summary Statistics</center>"
   ]
  },
  {
   "cell_type": "markdown",
   "metadata": {},
   "source": [
    "![Distribution of features](notebooks/fig/distri_full.png)"
   ]
  },
  {
   "cell_type": "markdown",
   "metadata": {},
   "source": [
    "The median of total durations for each playlist is 190.37 minutes. The distributions of number of tracks, number of artists, and number of albums for each playlist are right skewed. Thus, median values provide better descriptions than mean values for these features. The median of number of tracks in each playlist is 49, whereas the longest playlist contains 376 songs, and the shortest playlist has only 5 songs. In addition, about 50% of the playlists contain songs from over 29 artists or songs from over 37 albums. The majority of the playlists were built non-collaboratively. Furthermore, most of the changes in those playlists were made recently with the latest modification made on November 1 in 2017. "
   ]
  },
  {
   "cell_type": "markdown",
   "metadata": {
    "collapsed": true
   },
   "source": [
    "### Part 2: Popularity of tracks, artists and albums"
   ]
  },
  {
   "cell_type": "markdown",
   "metadata": {},
   "source": [
    "The popularity of tracks, artists and albums might be useful for recommendation - the most simple and intuitive method of recommendation is to recommend the most popular tracks to users. Thus, we listed top 50 tracks, artists and albums in the whole MPD, which is useful for future references. "
   ]
  },
  {
   "cell_type": "markdown",
   "metadata": {},
   "source": [
    "<center>**Figure 3. The most popular tracks, artists and albums**</center>"
   ]
  },
  {
   "cell_type": "markdown",
   "metadata": {},
   "source": [
    "![Top hits](notebooks/fig/tophits_full.png)"
   ]
  },
  {
   "cell_type": "markdown",
   "metadata": {},
   "source": [
    "## Taking a subset for modeling"
   ]
  },
  {
   "cell_type": "markdown",
   "metadata": {},
   "source": [
    "Due to the limited computation power of local PC, we randomly sampled a small subset of playlists (1000 playlists) to work with different recommendation algorithms (even computationally intensive ones). To see whether the small dataset's composition is comparable with MPD's, we repeated the same EDA process on it. The distribution of summary statistics of playlists and the popularity is similar to MPD, though the magnitude is different due to different sample size. Even the top songs is very similar to both datasets.  "
   ]
  },
  {
   "cell_type": "markdown",
   "metadata": {},
   "source": [
    ">Number of playlists in total: 1000   \n",
    "Number of tracks in total: 61163    \n",
    "Number of unique tracks: 33661    \n",
    "Number of unique artists: 9858   \n",
    "Number of unique albums: 17345   \n",
    "Number of unique titles: 869    "
   ]
  },
  {
   "cell_type": "markdown",
   "metadata": {},
   "source": [
    "<center>**Figure 4. Distribution of Summary Stats for 1000 playlists**</center>"
   ]
  },
  {
   "cell_type": "markdown",
   "metadata": {},
   "source": [
    "![Distribution fo Summary Stats](notebooks/fig/Distribution_1K.png)"
   ]
  },
  {
   "cell_type": "markdown",
   "metadata": {},
   "source": [
    "<center>**Figure 5. The most popular tracks, artists and albums**</center>"
   ]
  },
  {
   "cell_type": "markdown",
   "metadata": {},
   "source": [
    "![Top hits](notebooks/fig/Tophits_1K.png)"
   ]
  }
 ],
 "metadata": {
  "kernelspec": {
   "display_name": "Python 3",
   "language": "python",
   "name": "python3"
  },
  "language_info": {
   "codemirror_mode": {
    "name": "ipython",
    "version": 3
   },
   "file_extension": ".py",
   "mimetype": "text/x-python",
   "name": "python",
   "nbconvert_exporter": "python",
   "pygments_lexer": "ipython3",
   "version": "3.6.1"
  }
 },
 "nbformat": 4,
 "nbformat_minor": 2
}
